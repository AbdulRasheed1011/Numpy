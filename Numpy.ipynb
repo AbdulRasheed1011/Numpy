{
 "cells": [
  {
   "cell_type": "code",
   "execution_count": 1,
   "id": "1b39cc18",
   "metadata": {},
   "outputs": [],
   "source": [
    "import numpy as np"
   ]
  },
  {
   "cell_type": "markdown",
   "id": "37a41f7e",
   "metadata": {},
   "source": [
    "# 1. Converting list into array"
   ]
  },
  {
   "cell_type": "code",
   "execution_count": 2,
   "id": "ea0e224b",
   "metadata": {},
   "outputs": [],
   "source": [
    "a = [1,2,3,4]\n",
    "arr = np.array(a, ndmin = 3)"
   ]
  },
  {
   "cell_type": "code",
   "execution_count": 3,
   "id": "87ac742f",
   "metadata": {},
   "outputs": [
    {
     "name": "stdout",
     "output_type": "stream",
     "text": [
      "<class 'list'>\n",
      "[1, 2, 3, 4]\n",
      "<class 'numpy.ndarray'>\n",
      "[[[1 2 3 4]]]\n"
     ]
    }
   ],
   "source": [
    "print(type(a))\n",
    "print(a)\n",
    "print(type(arr))\n",
    "print(arr)"
   ]
  },
  {
   "cell_type": "markdown",
   "id": "92be1363",
   "metadata": {},
   "source": [
    "# 2. Arrange Function"
   ]
  },
  {
   "cell_type": "markdown",
   "id": "79476d47",
   "metadata": {},
   "source": [
    "The arange([start,] stop[, step,][, type]): Returns an array with evenly spaced elements as per the interval.\n",
    "The interval mentioned is half-opened i.e. [Start, Stop)"
   ]
  },
  {
   "cell_type": "code",
   "execution_count": 4,
   "id": "61f1cd6f",
   "metadata": {},
   "outputs": [
    {
     "data": {
      "text/plain": [
       "array([0, 1, 2, 3, 4, 5, 6, 7, 8, 9])"
      ]
     },
     "execution_count": 4,
     "metadata": {},
     "output_type": "execute_result"
    }
   ],
   "source": [
    "np.arange(0,10)"
   ]
  },
  {
   "cell_type": "code",
   "execution_count": 5,
   "id": "1d8a442e",
   "metadata": {},
   "outputs": [
    {
     "name": "stdout",
     "output_type": "stream",
     "text": [
      "0\n",
      "2\n",
      "4\n",
      "6\n",
      "8\n"
     ]
    }
   ],
   "source": [
    "for i in range(0,10,2):\n",
    "    print(i)"
   ]
  },
  {
   "cell_type": "markdown",
   "id": "a4e309aa",
   "metadata": {},
   "source": [
    "# 3. Multidimensional Array"
   ]
  },
  {
   "cell_type": "code",
   "execution_count": 6,
   "id": "76009df6",
   "metadata": {},
   "outputs": [],
   "source": [
    "arr = np.array([[1,2,3,4], [5,6,7,8], [9,10,11,12]])"
   ]
  },
  {
   "cell_type": "code",
   "execution_count": 7,
   "id": "4ceb4bce",
   "metadata": {},
   "outputs": [
    {
     "name": "stdout",
     "output_type": "stream",
     "text": [
      "[[ 1  2  3  4]\n",
      " [ 5  6  7  8]\n",
      " [ 9 10 11 12]]\n"
     ]
    }
   ],
   "source": [
    "print(arr)"
   ]
  },
  {
   "cell_type": "markdown",
   "id": "e4f32576",
   "metadata": {},
   "source": [
    "# 4. Size Funcition"
   ]
  },
  {
   "cell_type": "markdown",
   "id": "dae172a3",
   "metadata": {},
   "source": [
    "In Python, numpy.size() function count the number of elements along a given axis (0 - Rows | 1 - Columns)"
   ]
  },
  {
   "cell_type": "code",
   "execution_count": 8,
   "id": "24ba9d8f",
   "metadata": {},
   "outputs": [
    {
     "name": "stdout",
     "output_type": "stream",
     "text": [
      "Total: 12\n",
      "rows:  3\n",
      "columns:  4\n"
     ]
    }
   ],
   "source": [
    "arr = np.array([[1,2,3,4], [5,6,7,8], [9,10,11,12]])\n",
    "print(\"Total:\", np.size(arr))\n",
    "print(\"rows: \", np.size(arr, 0))\n",
    "print(\"columns: \", np.size(arr, 1))"
   ]
  },
  {
   "cell_type": "markdown",
   "id": "da6a8d2e",
   "metadata": {},
   "source": [
    "The shape of an array can be defined as the number of elements in each dimension. Dimension is the number of indices or subscripts, that we require in order to specify an individual element of an array."
   ]
  },
  {
   "cell_type": "markdown",
   "id": "d304efd8",
   "metadata": {},
   "source": [
    "# 5. Shape Function"
   ]
  },
  {
   "cell_type": "code",
   "execution_count": 9,
   "id": "297184d3",
   "metadata": {},
   "outputs": [
    {
     "name": "stdout",
     "output_type": "stream",
     "text": [
      "(3, 4)\n",
      "(3, 4)\n"
     ]
    }
   ],
   "source": [
    "arr = np.array([[1,2,3,4], [5,6,7,8], [9,10,11,12]])\n",
    "print((np.size(arr, 0), np.size(arr, 1)))\n",
    "print(np.shape(arr))"
   ]
  },
  {
   "cell_type": "raw",
   "id": "cf55da6d",
   "metadata": {},
   "source": []
  },
  {
   "cell_type": "markdown",
   "id": "5e9636c1",
   "metadata": {},
   "source": [
    "# 6. Dtype Function"
   ]
  },
  {
   "cell_type": "markdown",
   "id": "76ed2c3e",
   "metadata": {},
   "source": [
    "Every ndarray has an associated data type (type) object. This data type object (type) informs us about the layout of the array. This means it gives us information about:\n",
    "\n",
    "Type of the data (integer, float, Python object, etc.)\n",
    "• Size of the data (number of bytes)\n",
    "• The byte order of the data (little-endian or big-endian)\n",
    "• If the data type is a sub-array, what is its shape and data type?"
   ]
  },
  {
   "cell_type": "code",
   "execution_count": 10,
   "id": "86070f28",
   "metadata": {},
   "outputs": [
    {
     "name": "stdout",
     "output_type": "stream",
     "text": [
      "int64\n",
      "float64\n",
      "float64\n"
     ]
    }
   ],
   "source": [
    "arr1 = np.array([1,2,3,4,5,6])\n",
    "arr2 = np.array([1.5, 2.5, 3.9, 4.6, 5.7])\n",
    "arr3 = np.array([1.5, 2.6, 7, 8, 9])\n",
    "\n",
    "print(arr1.dtype)\n",
    "print(arr2.dtype)\n",
    "print(arr3.dtype)"
   ]
  },
  {
   "cell_type": "markdown",
   "id": "562b1181",
   "metadata": {},
   "source": [
    "# 7. Ndim Function"
   ]
  },
  {
   "cell_type": "markdown",
   "id": "7d05cba5",
   "metadata": {},
   "source": [
    "numpy. ndarray.ndim() function return the number of dimensions of an array."
   ]
  },
  {
   "cell_type": "code",
   "execution_count": 11,
   "id": "9640e3af",
   "metadata": {},
   "outputs": [
    {
     "name": "stdout",
     "output_type": "stream",
     "text": [
      "1\n",
      "2\n",
      "5\n",
      "[[[[[1 2 3 4 5 6]]]]]\n"
     ]
    }
   ],
   "source": [
    "arr1 = np.array([1,2,3,4,5,6])\n",
    "arr2 = np.array([[1,2,3], [4,5,6], [7,8,9]])\n",
    "\n",
    "arr3 = np.array(arr1, ndmin = 5)\n",
    "\n",
    "print(arr1.ndim)\n",
    "print(arr2.ndim)\n",
    "print(arr3.ndim)\n",
    "print(arr3)"
   ]
  },
  {
   "cell_type": "markdown",
   "id": "3e88ca01",
   "metadata": {},
   "source": [
    "# 8. Zeros Function"
   ]
  },
  {
   "cell_type": "markdown",
   "id": "3715f036",
   "metadata": {},
   "source": [
    "The numpy.zeros function returns a new array of given shape and type, with zeros. Syntax:\n",
    "numpy.zeros(shape, type = None)"
   ]
  },
  {
   "cell_type": "code",
   "execution_count": 12,
   "id": "28d59387",
   "metadata": {},
   "outputs": [
    {
     "name": "stdout",
     "output_type": "stream",
     "text": [
      "[[0 0 0 0 0]\n",
      " [0 0 0 0 0]\n",
      " [0 0 0 0 0]]\n",
      "int64\n"
     ]
    }
   ],
   "source": [
    "arr = np.zeros(shape = (3,5), dtype =int)\n",
    "print(arr)\n",
    "print(arr.dtype)"
   ]
  },
  {
   "cell_type": "markdown",
   "id": "eee57e40",
   "metadata": {},
   "source": [
    "# Ones Function"
   ]
  },
  {
   "cell_type": "markdown",
   "id": "d0109bd7",
   "metadata": {},
   "source": [
    "The numpy.ones () function returns a new array of given shape and type, with ones.\n",
    "Syntax: numpy. ones (shape, type = None)"
   ]
  },
  {
   "cell_type": "code",
   "execution_count": 13,
   "id": "05402188",
   "metadata": {},
   "outputs": [
    {
     "name": "stdout",
     "output_type": "stream",
     "text": [
      "[[1. 1. 1. 1. 1.]\n",
      " [1. 1. 1. 1. 1.]\n",
      " [1. 1. 1. 1. 1.]\n",
      " [1. 1. 1. 1. 1.]]\n",
      "float64\n"
     ]
    }
   ],
   "source": [
    "arr = np.ones(shape = (4,5), dtype = float)\n",
    "print(arr)\n",
    "print(arr.dtype)"
   ]
  },
  {
   "cell_type": "markdown",
   "id": "0d7a38dc",
   "metadata": {},
   "source": [
    "# 9. Eye Function"
   ]
  },
  {
   "cell_type": "markdown",
   "id": "b46fda02",
   "metadata": {},
   "source": [
    "The eye tool returns a 2-D array with 1's as the diagonal and 0's elsewhere. The diagonal can be main, upper, or lower depending on the optional parameter k."
   ]
  },
  {
   "cell_type": "code",
   "execution_count": 14,
   "id": "dffdf2d5",
   "metadata": {},
   "outputs": [
    {
     "name": "stdout",
     "output_type": "stream",
     "text": [
      "[[1 0 0 0]\n",
      " [0 1 0 0]\n",
      " [0 0 1 0]\n",
      " [0 0 0 1]]\n",
      "int64\n"
     ]
    }
   ],
   "source": [
    "arr = np.eye(4, dtype = int)\n",
    "print(arr)\n",
    "print(arr.dtype)"
   ]
  },
  {
   "cell_type": "markdown",
   "id": "0f350797",
   "metadata": {},
   "source": [
    "# 10. Empty Function"
   ]
  },
  {
   "cell_type": "markdown",
   "id": "af1d0cb9",
   "metadata": {},
   "source": [
    "Return am empty array of given shape and type"
   ]
  },
  {
   "cell_type": "code",
   "execution_count": 15,
   "id": "7f17850e",
   "metadata": {},
   "outputs": [
    {
     "name": "stdout",
     "output_type": "stream",
     "text": [
      "[[1. 1. 1. 1. 1.]\n",
      " [1. 1. 1. 1. 1.]\n",
      " [1. 1. 1. 1. 1.]\n",
      " [1. 1. 1. 1. 1.]]\n",
      "[[ 1.14285714 -2.28571429  0.57142857]\n",
      " [-2.28571429  4.97142857 -1.54285714]\n",
      " [ 0.57142857 -1.54285714  0.88571429]]\n",
      "[[0. 0. 0. 0. 0.]\n",
      " [0. 0. 0. 0. 0.]\n",
      " [0. 0. 0. 0. 0.]\n",
      " [0. 0. 0. 0. 0.]\n",
      " [0. 0. 0. 0. 0.]]\n",
      "float64\n",
      "float64\n",
      "float64\n"
     ]
    }
   ],
   "source": [
    "arr1 = np.empty(shape = (4,5))\n",
    "arr2 = np.empty(shape = (3,3))\n",
    "arr3 = np.empty(shape = (5,5))\n",
    "\n",
    "print(arr1)\n",
    "\n",
    "print(arr2)\n",
    "\n",
    "print(arr3)\n",
    "\n",
    "print(arr1.dtype)\n",
    "\n",
    "print(arr2.dtype)\n",
    "\n",
    "print(arr3.dtype)"
   ]
  },
  {
   "cell_type": "markdown",
   "id": "b387b02f",
   "metadata": {},
   "source": [
    "# 11. Np.random.rand"
   ]
  },
  {
   "cell_type": "markdown",
   "id": "c4dcac5c",
   "metadata": {},
   "source": [
    "a) np.random.rand\n",
    "\n",
    "The numpy. random. rand() function creates an array of specified shape and fills it with random values."
   ]
  },
  {
   "cell_type": "code",
   "execution_count": 16,
   "id": "3e1edef5",
   "metadata": {},
   "outputs": [
    {
     "name": "stdout",
     "output_type": "stream",
     "text": [
      "[[0.63938875 0.74953622 0.77444341 0.29013861]\n",
      " [0.20165212 0.5267932  0.3016355  0.5390227 ]\n",
      " [0.88898244 0.07288733 0.68799737 0.49133541]]\n"
     ]
    }
   ],
   "source": [
    "arr = np.random.rand(3,4)\n",
    "print(arr)"
   ]
  },
  {
   "cell_type": "markdown",
   "id": "adaa1afa",
   "metadata": {},
   "source": [
    "b) np.random.randint\n",
    "\n",
    "numpy. random. randint() is one of the function for doing random sampling in numpy. It returns an array of specified shape and fills it with random integers from low (inclusive) to high (exclusive), i.e. in the interval [low, high)."
   ]
  },
  {
   "cell_type": "code",
   "execution_count": 17,
   "id": "f9ff805a",
   "metadata": {},
   "outputs": [
    {
     "name": "stdout",
     "output_type": "stream",
     "text": [
      "[15  9 18  8 10  9  6  5 18  6 12  7  4 15 17  4  1 18  2  7]\n"
     ]
    }
   ],
   "source": [
    "arr = np.random.randint(low = 1, high = 20, size = 20)\n",
    "print(arr)"
   ]
  },
  {
   "cell_type": "markdown",
   "id": "2ccc0675",
   "metadata": {},
   "source": [
    "c) np.random.randn\n",
    "The numpy.random.randni function creates an array of specified shape and fills it with random values as per standard normal distribution."
   ]
  },
  {
   "cell_type": "code",
   "execution_count": 18,
   "id": "65b7eb06",
   "metadata": {},
   "outputs": [
    {
     "name": "stdout",
     "output_type": "stream",
     "text": [
      "[-8.90101222e-01  1.58539629e+00 -1.93190096e+00  2.26906223e+00\n",
      "  6.34987695e-01 -5.09441199e-01 -8.01309207e-01  1.28844765e+00\n",
      "  1.21395156e+00  1.44779178e-01  1.10668537e-01 -4.75704065e-03\n",
      "  1.74615001e+00 -1.52795215e+00 -3.66218907e-01 -1.50740785e+00\n",
      " -1.09281768e+00  8.81609838e-01  9.55873718e-01 -4.15946491e-01\n",
      " -1.27673447e+00  1.17081010e+00  5.74149454e-01 -5.02726987e-01\n",
      "  1.27722243e+00 -2.90554865e-01 -1.80870343e+00  1.80226495e-01\n",
      " -1.69474786e+00  8.58895542e-01 -5.12342903e-01 -1.61441057e+00\n",
      " -1.03052720e+00 -4.85922329e-01  5.79019122e-01  4.12338252e-01\n",
      " -1.32526476e+00  1.30416793e+00  1.25493304e+00  5.02836573e-01\n",
      " -6.61509255e-01 -1.08365374e-01  1.70684868e+00  8.47363153e-01\n",
      "  2.73918284e-01 -1.45561949e+00 -1.57640126e+00 -4.48713876e-01\n",
      "  4.37201270e-01  1.57932146e+00 -1.42838097e-01  5.06093935e-01\n",
      " -1.37855587e+00  4.60553570e-02  5.21662245e-01  5.06775169e-01\n",
      " -7.34847381e-01 -2.10320926e+00 -1.86375265e+00 -8.89615320e-01\n",
      " -1.36685616e-01 -1.74494684e-01 -5.94382827e-01  2.04808929e-01\n",
      " -1.17660221e+00  1.82748314e+00  8.64026159e-01 -5.38259849e-01\n",
      "  8.58114019e-01 -6.51200083e-01 -4.08164580e-01 -7.30652859e-01\n",
      "  9.51356072e-01 -2.65284739e-01  8.15583284e-02 -9.05676365e-02\n",
      " -3.15520971e-03 -3.64465268e-02  9.31694774e-01 -4.49244729e-01\n",
      " -4.80892651e-01  7.02253853e-01  1.02724615e+00 -4.91540704e-01\n",
      "  5.94586503e-01 -1.34283454e+00 -9.07528321e-01  4.24049060e-01\n",
      " -1.65358790e+00 -5.49035890e-01 -7.34685848e-01  1.92261031e-01\n",
      " -1.10769259e+00 -1.81610132e-01  7.46062933e-02 -1.70513349e+00\n",
      "  1.65295801e+00 -1.46176634e+00  1.04436401e-01 -3.07796741e-01\n",
      "  6.11500562e-01 -3.01278129e-01  7.92335437e-01 -8.23766822e-02\n",
      " -1.77294114e+00 -1.22546194e-01  8.85851414e-01 -1.37333720e+00\n",
      " -8.12747998e-02 -7.72386338e-01  2.44471154e-01  9.45678571e-01\n",
      "  7.45869137e-01 -9.31913011e-02 -4.76450612e-01 -9.51631757e-01\n",
      " -1.11734996e+00  4.93733245e-01 -7.02955515e-01  3.50771096e-01\n",
      "  1.98340700e+00  2.00855073e-01 -2.27086944e-01  1.98800319e+00\n",
      " -3.13566908e-01 -3.85831915e-01  2.90157382e+00 -6.02566399e-01\n",
      "  1.14295151e+00  8.88416487e-01  6.06315093e-01 -1.67759322e+00\n",
      "  1.28824994e+00  1.37779787e+00  6.62373251e-01  1.29562520e+00\n",
      "  9.05336839e-01 -1.98399797e+00  8.75691958e-01  1.49275440e+00\n",
      "  7.53185597e-01 -2.96530859e-01  1.43238295e-01  7.33225823e-02\n",
      " -4.43697165e-01 -7.16245022e-01 -8.37696511e-01  2.06002152e-01\n",
      " -7.85471711e-01  1.45945435e+00  6.72782711e-01  5.60381152e-01\n",
      " -9.97708979e-01  3.03431282e-01  2.17267489e+00  4.26662693e-01\n",
      " -3.89082308e-03  1.20730745e+00 -1.94620765e+00  1.55090328e+00\n",
      "  3.15124368e+00 -3.14502520e-01  1.37356139e+00  2.23214749e-01\n",
      "  4.26296088e-01 -1.43800107e-01  9.61764140e-01 -9.09082332e-01\n",
      " -9.05214707e-02  2.54865052e-01 -2.41316572e-01 -7.18574856e-01\n",
      " -3.17788685e-01 -8.15936322e-01 -6.66032593e-01  1.25087862e+00\n",
      "  1.48341101e+00 -1.19280746e-01 -8.95277804e-01  1.45179190e+00\n",
      " -2.58410686e-01  3.57183259e-01 -1.40220312e-03 -1.13244265e+00\n",
      "  1.27011893e-01  4.62526081e-01 -4.48353577e-01  8.71674168e-01\n",
      "  6.06371949e-01  7.63460789e-01  3.07086525e-01 -2.42634020e-01\n",
      " -6.40408795e-01 -1.98219123e+00  5.70862851e-01 -1.36364755e+00\n",
      "  1.36608338e-01 -4.20240113e-01  1.56902846e+00 -2.62298036e-01\n",
      "  1.93262475e+00 -1.21475582e+00 -4.06253407e-01  2.36945968e+00\n",
      " -2.32415372e-01 -1.82335442e+00  1.02321465e-01 -1.27466021e+00\n",
      " -2.47114162e-01 -1.50401431e+00 -4.66732607e-01  3.16428144e-01\n",
      "  7.11277827e-01 -3.57502291e-02 -3.06925168e-01  2.44315441e-01\n",
      " -1.71910520e+00  6.22853552e-01  4.98808680e-01  8.03860812e-01\n",
      " -7.01441038e-01  1.54703300e+00  2.03540902e+00 -6.09517871e-01\n",
      " -7.25778260e-01  1.98637908e+00 -1.10259906e-01  1.07352491e+00\n",
      "  2.34275946e-01  1.59353875e+00  1.41228963e+00  1.34964466e+00\n",
      "  5.85468990e-01  1.75615819e-01 -7.26974490e-01 -1.28106882e-01\n",
      "  1.83675578e+00  7.30284333e-01  1.08200286e+00  1.74658660e+00\n",
      "  5.99901504e-01  1.61331093e+00 -7.51209362e-01 -2.42856860e-01\n",
      " -2.94934996e-01  3.86131429e-01  2.71421614e-01  4.57255727e-01\n",
      " -1.90127230e+00  2.56357168e-01  1.31452471e+00  5.50274497e-01\n",
      " -7.29932469e-02  3.67866789e-01  8.45895592e-01 -4.14590989e-01\n",
      " -1.53762748e+00  7.36154338e-01 -4.95950611e-01 -1.32119015e-01\n",
      "  1.56738553e-01 -1.04164085e+00  8.13337956e-01  1.53978229e+00\n",
      "  8.44596928e-01  1.14117221e+00  1.23414508e+00 -4.12104288e-01\n",
      " -8.33951222e-01 -2.67936186e-01 -1.56197431e+00  2.03362375e+00\n",
      "  1.37601803e+00  2.29257728e-01 -1.28165723e+00 -1.45853671e+00\n",
      "  8.59646035e-01 -2.26727388e-01  4.51922547e-01  6.05003678e-01\n",
      "  1.75133004e+00 -9.81182629e-02  8.99631359e-04 -1.48167735e+00\n",
      "  2.37731639e-01 -6.88940778e-01 -1.26604771e+00  8.50402906e-01\n",
      " -2.14502168e-01 -8.19520285e-01 -8.62292841e-01 -3.32978755e-01\n",
      "  5.83132586e-01  7.11955921e-01 -5.35999037e-01 -6.89530213e-01\n",
      " -5.54634695e-01 -6.74941716e-01  5.33170271e-01  1.10488824e+00\n",
      "  4.07567722e-01  2.04347941e+00 -1.17011699e-01  8.44097361e-01\n",
      " -1.38288043e+00  6.77952876e-01 -7.55627159e-01  3.18116716e-02\n",
      " -1.28033444e+00 -1.27061149e-01  6.32303707e-01  4.24302418e-01\n",
      "  5.42526240e-01 -1.09769542e+00 -1.69152873e+00 -8.76671191e-01\n",
      " -7.43415384e-01 -3.97045512e-01 -3.56552158e-01  1.10824648e+00\n",
      " -3.81935513e-01  2.16450398e-01  3.09317941e-01  8.49271656e-01\n",
      " -5.53665499e-01  1.22185182e+00  2.54262404e-01 -7.50462815e-01\n",
      " -5.40089938e-01 -1.23934764e+00 -6.30902515e-01  1.89243771e+00\n",
      " -1.13504149e+00  3.56672458e-01  1.07244302e+00  7.38013943e-01\n",
      "  1.72250798e-02  9.18173977e-01  1.19261929e+00 -3.81392814e-01\n",
      " -9.89341934e-01 -8.99290074e-01 -6.23654034e-01 -9.62688473e-01\n",
      "  1.16897120e+00  6.39339013e-01 -4.64977254e-01  1.73173769e+00\n",
      "  2.53540831e-01 -7.66874188e-01 -4.24638725e-01 -2.42007306e+00\n",
      " -5.99783110e-01 -1.88020213e-01  3.83504601e-01  1.34839789e-01\n",
      " -4.31050785e-02  8.77862160e-02  9.10475600e-01 -3.65146599e-01\n",
      " -6.50820329e-01 -1.41786688e-01  6.34270585e-01  4.47732573e-01\n",
      "  6.54053234e-01 -5.16605862e-01 -7.64387105e-01  6.47101688e-01\n",
      " -9.96599763e-01 -1.84189245e-01 -5.28423619e-01  8.48804082e-01\n",
      "  1.96080116e-01  5.33774200e-01 -5.16952620e-01  2.01541639e+00\n",
      "  6.87916897e-01  1.26479201e+00  8.26503937e-01 -9.77418928e-01\n",
      " -1.80455983e+00  1.21703191e+00 -6.79175506e-01  9.79699256e-01\n",
      " -5.87520957e-01 -1.49172319e+00 -8.57378616e-02 -1.35887624e+00\n",
      "  7.18570023e-01 -7.38056465e-01 -1.49000211e+00 -8.79628660e-02\n",
      "  9.99157660e-01 -1.87881830e-01  7.04237336e-01 -4.66547676e-01\n",
      " -3.26729056e-01  1.69342356e-01  3.98088363e-01 -1.41055303e+00\n",
      " -6.23496743e-01  9.49293672e-01  3.75216590e-01  1.24176437e+00\n",
      " -1.33223781e+00  5.29612472e-01 -2.08674146e-01 -8.15342743e-01\n",
      "  8.08625853e-01  1.82657791e-01 -7.26833911e-01 -1.18976019e+00\n",
      " -9.44951030e-01  1.28447574e+00  3.63999829e-01 -4.51916626e-01\n",
      " -1.07316709e+00 -5.30927746e-01  1.65505076e+00  1.49872396e+00\n",
      " -8.70616174e-01 -3.89495313e-01  4.08256734e-01 -4.73677200e-01\n",
      "  8.11757993e-01  4.05372354e-01 -5.31063037e-01 -1.97922879e-01\n",
      " -2.96285647e-01  2.68741736e-01  1.94755473e-01 -1.32381381e+00\n",
      "  8.71243625e-02  9.81594332e-03  3.83597755e-01 -1.37137332e+00\n",
      "  1.86853509e+00 -1.16618814e+00 -5.26634676e-02 -3.49309317e-01\n",
      " -1.76684648e-02  1.96808026e-01 -1.45410107e-01 -1.62372581e-01\n",
      "  1.34520839e+00 -5.80424444e-01 -6.36946925e-01  5.33964737e-01\n",
      " -6.03634177e-01  1.18144865e+00 -8.25815032e-01 -9.40554766e-01\n",
      "  2.00656247e+00  6.17148744e-01  5.98826899e-01 -1.14310244e-01\n",
      " -2.21663015e+00 -4.29057893e-02  2.95831021e-01  1.27932235e+00\n",
      " -1.73245114e-01 -8.78548923e-01 -3.82915417e-01 -1.99269831e-01\n",
      " -1.68137831e+00 -1.79251359e-01  5.23456689e-01 -1.07582423e-01\n",
      " -5.72250632e-01  9.91415137e-01 -1.05610728e+00 -3.11374941e-02\n",
      "  4.04197398e-02  5.79882998e-01  1.05048584e+00 -1.67333271e-01\n",
      " -1.35723324e+00  9.78579695e-01  2.92139017e-01 -1.53579186e+00\n",
      " -1.00512517e+00  8.97542560e-01  1.51101372e+00 -1.17403876e+00\n",
      "  4.78834712e-01  1.92099182e-02  6.48558452e-01  1.01425421e+00\n",
      "  7.54885788e-01  9.10853958e-01  1.62072517e+00  3.27574271e-01\n",
      "  4.05936433e-01 -4.04612707e-01 -1.09563072e+00  5.19383873e-01\n",
      " -9.44026670e-01  7.94070410e-01 -3.82629653e-02 -5.49232021e-01\n",
      "  1.03702042e+00 -9.47493411e-01 -4.68933392e-01  6.89907712e-01\n",
      " -6.24083005e-01 -5.23054255e-01  7.35328763e-01 -9.92390490e-01\n",
      "  3.34446224e-01 -6.47119479e-01  1.94484293e-01 -3.22090348e-01\n",
      " -6.00757776e-01  4.20215933e-01 -6.97092920e-02 -1.48970157e-01\n",
      " -1.27797346e+00 -1.42479230e+00 -1.68923348e-01 -1.41762801e+00\n",
      "  8.62758760e-01  6.54247805e-01  1.02463178e+00  9.05458049e-02\n",
      " -6.31306585e-01  3.94740441e-01  4.25699739e-01 -3.66184697e+00\n",
      "  8.01189671e-01  6.79454167e-01  2.87734082e-01  6.40608098e-01\n",
      " -8.73728561e-02  4.53893549e-02 -3.61483830e-01 -6.60722557e-02\n",
      "  6.28448269e-01  5.58677332e-01  7.19882075e-01 -4.16161319e-01\n",
      " -2.67636786e-01 -3.17390536e-01 -4.98156894e-01 -7.10029830e-01\n",
      "  6.28061955e-01  4.25919455e-01  2.10348956e+00  2.80224799e-01\n",
      "  1.12069245e+00  6.28165281e-01  7.78765275e-01 -7.28225890e-01\n",
      " -9.83466427e-01 -3.85296827e-01  1.25197310e+00  1.38394983e+00\n",
      " -6.86687724e-01 -2.42789404e-01 -1.78321601e+00  1.43615951e-01\n",
      "  6.73965953e-01  1.02476949e+00 -2.29716485e-01  9.89074295e-01\n",
      " -8.95205014e-01 -1.07251134e+00  1.66858471e+00 -1.70501412e-01\n",
      " -4.37343886e-01  7.20512891e-01 -7.65232411e-01  3.40232903e-01\n",
      "  2.16253074e-01  1.02125066e+00  5.89585649e-01  7.75587179e-01\n",
      "  9.30167238e-01 -4.65798365e-01 -5.47465012e-02  3.26408530e-01\n",
      " -7.78774870e-02 -7.47294955e-01  7.27409601e-01  9.29648736e-01\n",
      "  7.22549823e-01 -3.30398882e-01  1.77401538e+00  5.98501894e-01\n",
      " -9.48388247e-01 -1.39260078e-01 -6.66621549e-01  5.58949492e-01\n",
      "  2.40826568e+00  8.61029957e-02 -4.55028116e-01  6.46912125e-01\n",
      "  8.82123717e-01 -1.76687333e+00  2.50813958e-01 -1.31790810e+00\n",
      "  1.66905739e+00 -2.18195767e-01 -9.56041050e-01  4.55103605e-01\n",
      " -2.93320493e-01  1.35506304e+00  1.86726371e+00 -1.37868392e+00\n",
      " -2.95896720e-01 -1.01592444e+00  3.39238082e-01 -2.37058523e-01\n",
      " -1.68030000e+00 -2.28690665e+00 -7.53504341e-01 -1.50175514e+00\n",
      "  1.03868664e+00 -3.68107022e-01 -1.23211981e-01 -2.07271104e-01\n",
      "  1.66108696e-01 -1.85472536e+00 -9.26759215e-02  1.78325922e-01\n",
      "  1.17823809e+00  1.10547655e+00  9.73746657e-01  9.37620427e-01\n",
      "  3.18973929e-01 -9.75247412e-01 -9.29781702e-01 -1.20588154e+00\n",
      "  1.74652648e-01 -7.07089683e-01  5.02556442e-01  5.49413284e-01\n",
      "  3.67287370e-02  8.41609163e-01 -1.73199291e+00  4.31444549e-01\n",
      " -5.67410932e-03 -1.13138880e+00 -1.08988991e-02 -3.08796903e-01\n",
      "  5.16554957e-01  1.45578129e+00  8.50258021e-01  1.12754543e+00\n",
      "  3.68254554e-01  7.43316257e-01  6.32658438e-01 -1.01282002e+00\n",
      " -1.15252125e-01 -1.17254250e-01  1.02475228e+00 -3.94753861e-01\n",
      "  1.07270881e-01 -9.33777571e-01 -7.98635532e-01  1.74118064e+00\n",
      " -9.39956722e-01  6.97451322e-01  1.02266071e+00  1.44836034e+00\n",
      "  1.67134461e+00  1.32986115e+00 -4.63595582e-02  1.71459543e-01\n",
      "  6.39193783e-01  2.24394812e-01 -4.10472481e-01  1.96051847e+00\n",
      "  1.94553465e-03 -8.59571143e-03  5.53253842e-01 -1.02197190e+00\n",
      " -8.03121658e-01  6.05111997e-01  1.00400632e+00 -8.06197344e-01\n",
      " -7.24958359e-01  7.04045946e-01 -4.68956293e-01 -2.17154479e+00\n",
      " -8.92229315e-02  2.18754927e+00  7.61137033e-02  7.14146906e-01\n",
      "  5.22185431e-02  5.07409741e-02 -6.95323254e-01  9.17091519e-01\n",
      "  1.30148326e+00 -3.51231804e-01 -1.20124711e-01  3.62197911e-01\n",
      " -2.04327756e-01  7.26043773e-01  1.69861665e+00 -3.07290245e-01\n",
      " -7.14076193e-01  3.99757419e-01 -5.51151078e-01 -1.86404151e-01\n",
      " -1.27254356e+00  9.77304453e-02 -2.32507184e-02  1.22973789e-01\n",
      "  1.15908808e+00 -6.63252797e-01 -2.34464654e-01  7.58854325e-01\n",
      " -4.25002267e-01  1.06348287e+00 -3.12544839e-01 -1.33226027e+00\n",
      "  8.79344531e-01 -1.53843246e-01 -1.93461476e+00  4.45350902e-01\n",
      "  7.58980718e-01  1.02412057e+00  1.87702955e-01 -1.15841464e+00\n",
      " -4.04240868e-01 -9.19608893e-01 -3.73693229e-01  2.28487645e+00\n",
      "  6.84102729e-02  4.28804367e-01  4.06998192e-01  7.39208121e-01\n",
      "  4.25504214e-01 -1.76482051e-01 -6.06422870e-01 -1.14224877e+00\n",
      " -2.09115068e+00  1.03799607e-02 -7.40244736e-01  3.34172091e-01\n",
      "  3.59483762e-01 -2.40338998e-01  6.75377057e-01  3.37217125e-01\n",
      " -4.23232068e-01  1.22976004e+00 -1.35820711e+00 -4.73424720e-01\n",
      "  7.03089170e-01  5.79996997e-01  2.11157317e+00 -8.62064856e-01\n",
      " -7.68614847e-01 -6.05615651e-02  1.58805143e-01 -1.30270020e+00\n",
      " -1.38643206e+00 -8.32303620e-01  1.10044664e-01 -3.90561424e-01\n",
      "  3.93570003e-01  8.16673767e-01 -9.62427230e-01 -3.31036234e-01\n",
      " -7.52993419e-02 -8.86948341e-01  8.69825801e-01  1.13299457e+00\n",
      "  7.79530963e-03  1.90784673e-01  1.02439316e+00 -1.18077097e+00\n",
      " -6.99090115e-01 -1.93622751e+00 -8.64432384e-01 -1.04591015e+00\n",
      " -2.97078022e-01 -1.38902089e+00 -4.84224265e-02 -1.60076799e+00\n",
      "  1.05767277e-01 -1.22708860e+00 -8.11745900e-01 -5.58916541e-01\n",
      "  1.74977065e+00  3.53060186e-02  1.21325729e-01  7.96249927e-01\n",
      " -1.16971942e+00  8.26678406e-01  1.54939463e+00 -1.86784127e-01\n",
      " -8.75397758e-01  3.50973648e-01 -2.56109161e-01 -1.05788267e-01\n",
      " -1.08771190e+00 -1.98439483e+00  2.55875802e+00 -1.88362962e+00\n",
      "  1.02787091e-01 -1.48246068e+00  4.94371517e-02  1.37228813e-01\n",
      " -1.12181381e+00  2.40868676e+00 -1.01127888e-01 -1.05519297e+00\n",
      "  5.98281414e-01  5.62918029e-01  1.88279864e-01 -5.63880241e-01\n",
      " -3.14641657e-01  8.37566646e-01  4.47804987e-02  8.80890776e-01\n",
      " -1.53930324e-01  7.85810287e-01  7.00430458e-01  3.52289844e-01\n",
      " -9.22639056e-01 -1.09011737e+00  2.15083193e+00  9.51804824e-02\n",
      "  5.04461703e-01  7.46619853e-01  5.74281554e-01 -3.54871328e-01\n",
      " -2.58029946e-01  4.75652709e-01 -5.44557763e-03  8.63835167e-01\n",
      " -9.26988857e-01  1.51810614e-01 -1.66126675e-01 -2.16066242e+00\n",
      "  6.77436289e-01  1.20803652e-02  3.71584640e-03  2.78682597e+00\n",
      " -1.50008039e-01  1.64970544e+00  1.86830362e-01 -4.49062921e-02\n",
      "  8.96681340e-01 -8.03144079e-01  1.25173437e-01 -2.55688430e+00\n",
      " -1.08015498e+00  2.98718327e-02 -1.06128252e+00 -1.10092907e+00\n",
      " -7.30555650e-01 -2.91033739e-01  3.53752296e-01 -7.93086665e-01\n",
      " -2.29048004e+00  1.29698092e-01 -2.03461071e-02  1.58968469e-01\n",
      " -2.30461995e+00  8.38527785e-01  3.22741198e-01  1.11949517e+00\n",
      "  1.03946028e+00  2.61787940e+00  2.15105383e-02 -2.86899022e-01\n",
      " -7.44470987e-01 -6.80044665e-01 -1.11908018e+00  1.28770359e+00\n",
      " -6.28925750e-01  6.96431549e-02 -5.05958565e-01  2.54169323e-01\n",
      "  7.36269994e-01  1.40841618e-01  1.95136923e-02 -1.41011079e-01\n",
      " -3.82018034e-01  7.12395040e-01 -9.61332941e-01 -8.49245451e-01\n",
      " -1.85309322e-01  4.08947255e-01 -9.44107262e-01  1.61929441e+00\n",
      " -5.00235186e-02  1.31306756e+00 -3.93594736e-01 -4.52138282e-01\n",
      "  8.62163218e-02 -7.48896061e-01  9.48045269e-01 -1.29231860e+00\n",
      "  9.26836282e-02  4.82832363e-01 -1.17075302e+00  4.69325726e-01\n",
      "  7.43011872e-02 -1.57478533e+00 -9.82188855e-01 -1.85104588e+00\n",
      "  4.43289678e-01 -5.89240522e-01 -6.89155541e-01  3.68984601e-01\n",
      " -9.06071060e-01 -2.41969121e-01  1.27540370e-01  3.59649001e-01\n",
      " -9.73210398e-01 -6.16479081e-01 -1.18075512e-01 -6.15720220e-01\n",
      " -1.42737169e+00 -9.80824492e-01  4.85857537e-02  5.35882005e-01\n",
      " -5.55721798e-01  2.70898908e+00  9.85097083e-01 -2.65144793e+00\n",
      "  1.19236642e-01 -1.78928443e-01 -3.25645761e+00 -6.65759245e-01\n",
      " -8.96398854e-01  3.40701473e-01 -3.60307012e-04  9.85423326e-01\n",
      " -2.02456830e+00  1.89584310e-03 -1.64253262e-01 -1.51360303e+00\n",
      "  1.72119728e-01  1.92103054e-01  1.26697388e-01 -7.31303071e-01\n",
      " -1.09142697e+00  6.80041385e-01  1.06173236e+00 -2.44651229e+00\n",
      " -7.29704475e-01  1.19823724e+00 -1.04711360e+00 -4.34033056e-01\n",
      "  2.50010151e+00 -3.56647119e-01 -6.50300872e-01  1.30047488e+00\n",
      " -8.38206868e-01 -8.32675305e-01  1.03310103e+00  9.11813398e-01\n",
      "  1.56044918e+00  1.12642711e-01  1.28620155e+00  1.15304699e+00\n",
      "  1.38030862e-01 -2.85337625e+00 -1.41100008e+00  2.27210037e+00\n",
      "  2.01941020e-01  5.24418324e-02 -1.41932217e+00 -4.96586413e-02\n",
      "  1.00042616e+00 -3.98580747e-01  1.45849268e-01 -2.97489316e-01\n",
      "  6.12884170e-01  3.35189257e-01 -2.93134055e-01 -1.20815081e+00\n",
      " -7.05006245e-01  3.43306821e-01 -1.61686649e+00 -3.93128393e-01\n",
      " -1.25869852e+00  8.48157102e-01  2.16883080e-01 -1.63210620e+00\n",
      "  2.25006959e+00  9.05483642e-01 -1.24367518e+00  3.62842426e-02\n",
      " -1.51008459e-01 -5.12115420e-01 -1.67937342e-02  1.83128231e-01\n",
      " -1.09539899e+00  5.41698212e-01 -2.12988673e-02 -2.82449614e-01\n",
      "  7.69363760e-01 -6.62413276e-01  5.02154714e-02 -9.13441026e-01]\n"
     ]
    }
   ],
   "source": [
    "arr = np.random.randn(1000)\n",
    "print(arr)"
   ]
  },
  {
   "cell_type": "code",
   "execution_count": 19,
   "id": "544c99ec",
   "metadata": {},
   "outputs": [
    {
     "data": {
      "text/plain": [
       "(array([ 1.,  0.,  0.,  0.,  0.,  1.,  0.,  0.,  0.,  0.,  0.,  1.,  0.,\n",
       "         0.,  1.,  0.,  1.,  1.,  1.,  1.,  2.,  2.,  2.,  1.,  4.,  5.,\n",
       "         5.,  5.,  5.,  5.,  6., 11.,  7., 13., 11.,  9., 11., 17., 12.,\n",
       "        22., 20., 18., 20., 29., 23., 19., 22., 27., 22., 31., 22., 35.,\n",
       "        29., 33., 26., 34., 30., 18., 24., 28., 17., 23., 26., 23., 29.,\n",
       "        15., 29., 17., 22.,  9., 11., 11., 15.,  9.,  2.,  8.,  7.,  6.,\n",
       "         7.,  7.,  2.,  3.,  5.,  5.,  2.,  3.,  1.,  3.,  1.,  2.,  1.,\n",
       "         1.,  1.,  1.,  1.,  0.,  1.,  0.,  0.,  1.]),\n",
       " array([-3.66184697, -3.59371606, -3.52558515, -3.45745425, -3.38932334,\n",
       "        -3.32119243, -3.25306153, -3.18493062, -3.11679972, -3.04866881,\n",
       "        -2.9805379 , -2.912407  , -2.84427609, -2.77614518, -2.70801428,\n",
       "        -2.63988337, -2.57175246, -2.50362156, -2.43549065, -2.36735974,\n",
       "        -2.29922884, -2.23109793, -2.16296702, -2.09483612, -2.02670521,\n",
       "        -1.95857431, -1.8904434 , -1.82231249, -1.75418159, -1.68605068,\n",
       "        -1.61791977, -1.54978887, -1.48165796, -1.41352705, -1.34539615,\n",
       "        -1.27726524, -1.20913433, -1.14100343, -1.07287252, -1.00474161,\n",
       "        -0.93661071, -0.8684798 , -0.8003489 , -0.73221799, -0.66408708,\n",
       "        -0.59595618, -0.52782527, -0.45969436, -0.39156346, -0.32343255,\n",
       "        -0.25530164, -0.18717074, -0.11903983, -0.05090892,  0.01722198,\n",
       "         0.08535289,  0.1534838 ,  0.2216147 ,  0.28974561,  0.35787651,\n",
       "         0.42600742,  0.49413833,  0.56226923,  0.63040014,  0.69853105,\n",
       "         0.76666195,  0.83479286,  0.90292377,  0.97105467,  1.03918558,\n",
       "         1.10731649,  1.17544739,  1.2435783 ,  1.31170921,  1.37984011,\n",
       "         1.44797102,  1.51610192,  1.58423283,  1.65236374,  1.72049464,\n",
       "         1.78862555,  1.85675646,  1.92488736,  1.99301827,  2.06114918,\n",
       "         2.12928008,  2.19741099,  2.2655419 ,  2.3336728 ,  2.40180371,\n",
       "         2.46993462,  2.53806552,  2.60619643,  2.67432733,  2.74245824,\n",
       "         2.81058915,  2.87872005,  2.94685096,  3.01498187,  3.08311277,\n",
       "         3.15124368]),\n",
       " <BarContainer object of 100 artists>)"
      ]
     },
     "execution_count": 19,
     "metadata": {},
     "output_type": "execute_result"
    },
    {
     "data": {
      "image/png": "[encoded data removed]",
      "text/plain": [
       "<Figure size 640x480 with 1 Axes>"
      ]
     },
     "metadata": {},
     "output_type": "display_data"
    }
   ],
   "source": [
    "import matplotlib.pyplot as plt\n",
    "%matplotlib inline\n",
    "\n",
    "plt.hist(arr, bins = 100)\n"
   ]
  },
  {
   "cell_type": "markdown",
   "id": "cfccf693",
   "metadata": {},
   "source": [
    "# 12. Reshape function - will not alter the original data"
   ]
  },
  {
   "cell_type": "markdown",
   "id": "d91c7dff",
   "metadata": {},
   "source": [
    "The numpy. reshape () function shapes an array without changing the data of the array. <br>\n",
    "It should be noted that the product if the rows and columns should be same"
   ]
  },
  {
   "cell_type": "code",
   "execution_count": 20,
   "id": "f683fac1",
   "metadata": {},
   "outputs": [
    {
     "name": "stdout",
     "output_type": "stream",
     "text": [
      "[[13  8 13  9]\n",
      " [14 11 13  1]\n",
      " [ 5 12 14  3]]\n",
      "(3, 4)\n",
      "[[13  8 13]\n",
      " [ 9 14 11]\n",
      " [13  1  5]\n",
      " [12 14  3]]\n",
      "(4, 3)\n"
     ]
    }
   ],
   "source": [
    "arr = np.random.randint(1,15,(3,4))\n",
    "print(arr)\n",
    "print(arr.shape)\n",
    "\n",
    "print(arr.reshape(4,3))\n",
    "print(arr.reshape(4,3).shape)\n",
    "\n",
    "#The output should be the mutiple of rows and columns"
   ]
  },
  {
   "cell_type": "markdown",
   "id": "a88d194c",
   "metadata": {},
   "source": [
    "# 13. Linspace Function"
   ]
  },
  {
   "cell_type": "markdown",
   "id": "cc84284a",
   "metadata": {},
   "source": [
    "The numpy. linspace() function returns number spaces evenly w.r.t interval. Similar to numpy.arange () function but instead of step it uses sample number.\n",
    "\n",
    "Parameters :\n",
    "    \n",
    "            • -> start : [optional] start of interval range. By default start = 0\n",
    "            • -> stop: end of interval range\n",
    "            • -> restep: If True, return (samples, step). By default restep = False\n",
    "            • -> num: [int, optional] No. of samples to generate\n",
    "            • -> type : type of output array"
   ]
  },
  {
   "cell_type": "code",
   "execution_count": 21,
   "id": "16c07bd8",
   "metadata": {},
   "outputs": [
    {
     "name": "stdout",
     "output_type": "stream",
     "text": [
      "[ 1.   1.5  2.   2.5  3.   3.5  4.   4.5  5.   5.5  6.   6.5  7.   7.5\n",
      "  8.   8.5  9.   9.5 10. ]\n"
     ]
    }
   ],
   "source": [
    "arr = np.linspace(1,10,19)\n",
    "print(arr)"
   ]
  },
  {
   "cell_type": "markdown",
   "id": "bdb5995a",
   "metadata": {},
   "source": [
    "# 14. Flatten Function"
   ]
  },
  {
   "cell_type": "markdown",
   "id": "52de4da4",
   "metadata": {},
   "source": [
    "ndarray. flatten() function return a copy of the array collapsed into one dimension."
   ]
  },
  {
   "cell_type": "code",
   "execution_count": 22,
   "id": "eaeef8dc",
   "metadata": {},
   "outputs": [
    {
     "name": "stdout",
     "output_type": "stream",
     "text": [
      "[[11  2  6  8]\n",
      " [ 7  1 10  4]\n",
      " [ 9 10  2 10]]\n",
      "(3, 4)\n",
      "[11  2  6  8  7  1 10  4  9 10  2 10]\n",
      "(12,)\n"
     ]
    }
   ],
   "source": [
    "arr = np.random.randint(1,15, (3,4))\n",
    "print(arr)\n",
    "print(arr.shape)\n",
    "\n",
    "arr = arr.flatten()\n",
    "\n",
    "print(arr)\n",
    "print(arr.shape)"
   ]
  },
  {
   "cell_type": "markdown",
   "id": "ca27bbe9",
   "metadata": {},
   "source": [
    "# 15. Logspace Function"
   ]
  },
  {
   "cell_type": "markdown",
   "id": "e467ae49",
   "metadata": {},
   "source": [
    "The numpy. logspace() function returns number spaces evenly w.r.t interval on a log scale.\n",
    "\n",
    "Parameters :\n",
    "    • -> start : [float] start(base ** start) of interval range.\n",
    "        \n",
    "    • -> stop : [float] end(base ** stop) of interval range\n",
    "        \n",
    "    • -> endpoint: [boolean, optional]lf True, stop is the last sample. By default, True\n",
    "        \n",
    "    • -> num: [int, optional] No. of samples to generate\n",
    "        \n",
    "    • -> base: [float, optional] Base of log scale. By default, equals 10.0\n",
    "        \n",
    "    -> dtype: type of output array"
   ]
  },
  {
   "cell_type": "code",
   "execution_count": 23,
   "id": "0dff3155",
   "metadata": {},
   "outputs": [
    {
     "name": "stdout",
     "output_type": "stream",
     "text": [
      "[  100.           166.81005372   278.25594022   464.15888336\n",
      "   774.26368268  1291.54966501  2154.43469003  3593.8136638\n",
      "  5994.84250319 10000.        ]\n",
      "[ 4.          4.66611616  5.44316     6.34960421  7.4069977   8.64047791\n",
      " 10.0793684  11.75787594 13.71590373 16.        ]\n"
     ]
    }
   ],
   "source": [
    "arr = np.logspace(2,4,10)\n",
    "print(arr)\n",
    "\n",
    "arr = np.logspace(2,4,10, base = 2)\n",
    "print(arr)"
   ]
  },
  {
   "cell_type": "markdown",
   "id": "4980c129",
   "metadata": {},
   "source": [
    "# 16. Copy Fuction"
   ]
  },
  {
   "cell_type": "markdown",
   "id": "358ff560",
   "metadata": {},
   "source": [
    "If we normally use the equals sign then the **id** of both the numpy array will be same, so we need to use to copy function"
   ]
  },
  {
   "cell_type": "code",
   "execution_count": 24,
   "id": "3127f9cd",
   "metadata": {},
   "outputs": [
    {
     "name": "stdout",
     "output_type": "stream",
     "text": [
      "[[ 1.14285714 -2.28571429  0.57142857]\n",
      " [-2.28571429  4.97142857 -1.54285714]\n",
      " [ 0.57142857 -1.54285714  0.88571429]] 4409606032\n",
      "[[ 1.14285714 -2.28571429  0.57142857]\n",
      " [-2.28571429  4.97142857 -1.54285714]\n",
      " [ 0.57142857 -1.54285714  0.88571429]] 4409606032\n",
      "--------------------------------------------------\n",
      "[13 13  1 12 11  4 10  8 13  3] 4709049104\n",
      "[13 13  1 12 11  4 10  8 13  3] 4709044016\n"
     ]
    }
   ],
   "source": [
    "arr1 = np.random.randint(1,15,10)\n",
    "\n",
    "#copying an array id will be the same\n",
    "\n",
    "arr1 = arr2\n",
    "print(arr1, id(arr1))\n",
    "print(arr2, id(arr2))\n",
    "print(\"-\"*50)\n",
    "\n",
    "#copying an array id will be different\n",
    "arr1 = np.random.randint(1,15,10)\n",
    "arr2 = np.copy(arr1)\n",
    "\n",
    "print(arr1, id(arr1))\n",
    "print(arr2, id(arr2))"
   ]
  },
  {
   "cell_type": "markdown",
   "id": "ee69cec0",
   "metadata": {},
   "source": [
    "# 17. arr.max(),   arr.min(),   arr.sum() Functions"
   ]
  },
  {
   "cell_type": "markdown",
   "id": "c72c7c10",
   "metadata": {},
   "source": [
    "• arr.max() will give us the maximum element present in the array\n",
    "\n",
    "• arr.min() will give us the minimun element present in the array\n",
    "\n",
    "• arr.sum() will give us the sum of all the elements present in the array"
   ]
  },
  {
   "cell_type": "code",
   "execution_count": 25,
   "id": "dc90e2eb",
   "metadata": {},
   "outputs": [
    {
     "name": "stdout",
     "output_type": "stream",
     "text": [
      "[[ 1  7  1  1 12]\n",
      " [10 12 10  4  6]\n",
      " [13  3  6  4  6]]\n",
      "Max: 13\n",
      "Min: 1\n",
      "Sum: 96\n"
     ]
    }
   ],
   "source": [
    "arr = np.random.randint(1,15,(3,5))\n",
    "print(arr)\n",
    "\n",
    "#max value\n",
    "print(\"Max:\", arr.max())\n",
    "\n",
    "#min value\n",
    "print(\"Min:\", arr.min())\n",
    "\n",
    "#sum of all the values\n",
    "print(\"Sum:\", arr.sum())"
   ]
  },
  {
   "cell_type": "markdown",
   "id": "c3b92f33",
   "metadata": {},
   "source": [
    "We can use the axis parameter to get the max, min and sum of a particular column or row\n",
    "\n",
    "• axis=0 is for the column\n",
    "\n",
    "• axis=1 is for the row"
   ]
  },
  {
   "cell_type": "markdown",
   "id": "7d4e8f8b",
   "metadata": {},
   "source": [
    "For column"
   ]
  },
  {
   "cell_type": "code",
   "execution_count": 26,
   "id": "446ef2e8",
   "metadata": {},
   "outputs": [
    {
     "name": "stdout",
     "output_type": "stream",
     "text": [
      "[[ 4 13  7  6  8]\n",
      " [11 14  4 14  6]\n",
      " [13 14 12  8  8]]\n",
      "Max: [13 14 12 14  8]\n",
      "Min: [ 4 13  4  6  6]\n",
      "Sum: [28 41 23 28 22]\n"
     ]
    }
   ],
   "source": [
    "arr = np.random.randint(1,15,(3,5))\n",
    "print(arr)\n",
    "\n",
    "#max value\n",
    "print(\"Max:\", arr.max(axis = 0))\n",
    "\n",
    "#min value\n",
    "print(\"Min:\", arr.min(axis = 0))\n",
    "\n",
    "#sum of all the values\n",
    "print(\"Sum:\", arr.sum(axis = 0))"
   ]
  },
  {
   "cell_type": "markdown",
   "id": "49ea9d15",
   "metadata": {},
   "source": [
    "For row"
   ]
  },
  {
   "cell_type": "code",
   "execution_count": 27,
   "id": "96dab53f",
   "metadata": {},
   "outputs": [
    {
     "name": "stdout",
     "output_type": "stream",
     "text": [
      "[[13  3  7 10 13]\n",
      " [10  4 13 13  1]\n",
      " [ 4  6  7 10 10]]\n",
      "Max: [13 13 10]\n",
      "Min: [3 1 4]\n",
      "Sum: [46 41 37]\n"
     ]
    }
   ],
   "source": [
    "arr = np.random.randint(1,15,(3,5))\n",
    "print(arr)\n",
    "\n",
    "#max value\n",
    "print(\"Max:\", arr.max(axis = 1))\n",
    "\n",
    "#min value\n",
    "print(\"Min:\", arr.min(axis = 1))\n",
    "\n",
    "#sum of all the values\n",
    "print(\"Sum:\", arr.sum(axis = 1))"
   ]
  },
  {
   "cell_type": "markdown",
   "id": "1e97d0a4",
   "metadata": {},
   "source": [
    "# 18. Seed Function"
   ]
  },
  {
   "cell_type": "markdown",
   "id": "817f52ff",
   "metadata": {},
   "source": [
    "random() function is used to generate random numbers in Python. Not actually random, rather this is used to generate pseudo-random numbers. That implies that these randomly generated numbers can be determined. random () function generates numbers for some values. This value is also called seed value.\n",
    "\n",
    "Syntax : random.seed( l, version )<br>\n",
    "    \n",
    "    parameters:\n",
    "        • I: Any seed value used to produce a random number.\n",
    "            \n",
    "        • version: A integer used to specify how to convert I in a integer."
   ]
  },
  {
   "cell_type": "code",
   "execution_count": 28,
   "id": "d218a032",
   "metadata": {},
   "outputs": [
    {
     "name": "stdout",
     "output_type": "stream",
     "text": [
      "[[8 6 2 9 8]\n",
      " [9 3 8 8 8]\n",
      " [9 5 3 7 5]]\n"
     ]
    }
   ],
   "source": [
    "np.random.seed(4)\n",
    "arr = np.random.randint(1,10,(3,5))\n",
    "print(arr)"
   ]
  },
  {
   "cell_type": "markdown",
   "id": "c5519dc6",
   "metadata": {},
   "source": [
    "# 19. Sorting Function"
   ]
  },
  {
   "cell_type": "markdown",
   "id": "ce3d6c91",
   "metadata": {},
   "source": [
    "numpy.sort() : This function returns a sorted copy of an array.\n",
    "    \n",
    "    Parameters:\n",
    "\n",
    "        • arr: Array to be sorted.\n",
    "\n",
    "        • axis : Axis along which we need array to be started.\n",
    "\n",
    "        • order: This argument specifies which fields to compare first.\n",
    "\n",
    "        • kind : ['quicksort'(default], 'mergesort', 'heapsort']Sorting algorithm."
   ]
  },
  {
   "cell_type": "code",
   "execution_count": 29,
   "id": "60e4dc54",
   "metadata": {},
   "outputs": [
    {
     "name": "stdout",
     "output_type": "stream",
     "text": [
      "[[8 6 2 9 8]\n",
      " [9 3 8 8 8]\n",
      " [9 5 3 7 5]]\n",
      "--------------------\n",
      "[[8 3 2 7 5]\n",
      " [9 5 3 8 8]\n",
      " [9 6 8 9 8]]\n",
      "--------------------\n",
      "[[2 6 8 8 9]\n",
      " [3 8 8 8 9]\n",
      " [3 5 5 7 9]]\n",
      "--------------------\n",
      "[[2 3 3 5 5]\n",
      " [6 7 8 8 8]\n",
      " [8 8 9 9 9]]\n"
     ]
    }
   ],
   "source": [
    "np.random.seed(4)\n",
    "arr = np.random.randint(1,10,(3,5))\n",
    "print(arr)\n",
    "\n",
    "print(\"-\"*20)\n",
    "\n",
    "#sort column wise axis = 0\n",
    "print(np.sort(arr, axis = 0))\n",
    "\n",
    "print(\"-\"*20)\n",
    "\n",
    "#sort row wise axis = 1\n",
    "print(np.sort(arr, axis = 1, kind = 'mergesort'))\n",
    "\n",
    "print(\"-\"*20)\n",
    "\n",
    "arr = np.reshape(np.sort(arr.flatten()), arr.shape)\n",
    "print(arr)"
   ]
  },
  {
   "cell_type": "markdown",
   "id": "735d692b",
   "metadata": {},
   "source": [
    "# 20. Mathematical operations"
   ]
  },
  {
   "cell_type": "markdown",
   "id": "79540b1e",
   "metadata": {},
   "source": [
    "a. Addition"
   ]
  },
  {
   "cell_type": "code",
   "execution_count": 30,
   "id": "09510af4",
   "metadata": {},
   "outputs": [
    {
     "name": "stdout",
     "output_type": "stream",
     "text": [
      "[[8 6 2 9 8]\n",
      " [9 3 8 8 8]\n",
      " [9 5 3 7 5]]\n",
      "--------------------\n",
      "[[ 9  7  3 10  9]\n",
      " [10  4  9  9  9]\n",
      " [10  6  4  8  6]]\n"
     ]
    }
   ],
   "source": [
    "np.random.seed(4)\n",
    "arr = np.random.randint(1,10,(3,5))\n",
    "print(arr)\n",
    "print('-'*20)\n",
    "print(arr+1)"
   ]
  },
  {
   "cell_type": "markdown",
   "id": "9378e4a4",
   "metadata": {},
   "source": [
    "b. Subtraction"
   ]
  },
  {
   "cell_type": "code",
   "execution_count": 31,
   "id": "492cd344",
   "metadata": {},
   "outputs": [
    {
     "name": "stdout",
     "output_type": "stream",
     "text": [
      "[[8 6 2 9 8]\n",
      " [9 3 8 8 8]\n",
      " [9 5 3 7 5]]\n",
      "--------------------\n",
      "[[6 4 0 7 6]\n",
      " [7 1 6 6 6]\n",
      " [7 3 1 5 3]]\n"
     ]
    }
   ],
   "source": [
    "np.random.seed(4)\n",
    "arr = np.random.randint(1,10,(3,5))\n",
    "print(arr)\n",
    "print('-'*20)\n",
    "print(arr - 2)"
   ]
  },
  {
   "cell_type": "markdown",
   "id": "c4637315",
   "metadata": {},
   "source": [
    "c. Multiplication"
   ]
  },
  {
   "cell_type": "code",
   "execution_count": 32,
   "id": "4f9013ec",
   "metadata": {},
   "outputs": [
    {
     "name": "stdout",
     "output_type": "stream",
     "text": [
      "[[8 6 2 9 8]\n",
      " [9 3 8 8 8]\n",
      " [9 5 3 7 5]]\n",
      "--------------------\n",
      "[[24 18  6 27 24]\n",
      " [27  9 24 24 24]\n",
      " [27 15  9 21 15]]\n"
     ]
    }
   ],
   "source": [
    "np.random.seed(4)\n",
    "arr = np.random.randint(1,10,(3,5))\n",
    "print(arr)\n",
    "print('-'*20)\n",
    "print(arr*3)"
   ]
  },
  {
   "cell_type": "markdown",
   "id": "e8b1c66e",
   "metadata": {},
   "source": [
    "D. Division"
   ]
  },
  {
   "cell_type": "code",
   "execution_count": 33,
   "id": "1db366b7",
   "metadata": {},
   "outputs": [
    {
     "name": "stdout",
     "output_type": "stream",
     "text": [
      "[[8 6 2 9 8]\n",
      " [9 3 8 8 8]\n",
      " [9 5 3 7 5]]\n",
      "--------------------\n",
      "[[4.  3.  1.  4.5 4. ]\n",
      " [4.5 1.5 4.  4.  4. ]\n",
      " [4.5 2.5 1.5 3.5 2.5]]\n"
     ]
    }
   ],
   "source": [
    "np.random.seed(4)\n",
    "arr = np.random.randint(1,10,(3,5))\n",
    "print(arr)\n",
    "print('-'*20)\n",
    "print(arr/2)"
   ]
  },
  {
   "cell_type": "markdown",
   "id": "99016d02",
   "metadata": {},
   "source": [
    "E. Matrix Multlipication\n",
    "    for this we can use either\n",
    "        dot function or\n",
    "        the @ symbol"
   ]
  },
  {
   "cell_type": "code",
   "execution_count": 34,
   "id": "fc74987e",
   "metadata": {},
   "outputs": [
    {
     "name": "stdout",
     "output_type": "stream",
     "text": [
      "[[8 6 2]\n",
      " [9 8 9]\n",
      " [3 8 8]]\n",
      "[[8 9 5]\n",
      " [3 7 5]\n",
      " [4 1 8]]\n",
      "--------------------\n",
      "[[ 90 116  86]\n",
      " [132 146 157]\n",
      " [ 80  91 119]]\n",
      "--------------------\n",
      "[[ 90 116  86]\n",
      " [132 146 157]\n",
      " [ 80  91 119]]\n"
     ]
    }
   ],
   "source": [
    "np.random.seed(4)\n",
    "arr1 = np.random.randint(1,10,(3,3))\n",
    "arr2 = np.random.randint(1,10,(3,3))\n",
    "\n",
    "print(arr1)\n",
    "print(arr2)\n",
    "print('-'*20)\n",
    "print(arr1.dot(arr2))\n",
    "print('-'*20)\n",
    "print(arr1@arr2)"
   ]
  },
  {
   "cell_type": "markdown",
   "id": "ffa1db22",
   "metadata": {},
   "source": [
    "F. Power operation"
   ]
  },
  {
   "cell_type": "code",
   "execution_count": 35,
   "id": "31019ea1",
   "metadata": {},
   "outputs": [
    {
     "name": "stdout",
     "output_type": "stream",
     "text": [
      "[[64 36  4]\n",
      " [81 64 81]\n",
      " [ 9 64 64]]\n"
     ]
    }
   ],
   "source": [
    "print(arr1**2)"
   ]
  },
  {
   "cell_type": "markdown",
   "id": "e48052c6",
   "metadata": {},
   "source": [
    "# 21. Percentile Function"
   ]
  },
  {
   "cell_type": "markdown",
   "id": "b929a9f1",
   "metadata": {},
   "source": [
    "numpy.percentile()function used to compute the nth percentile of the given data (array elements) along the specified axis"
   ]
  },
  {
   "cell_type": "code",
   "execution_count": 36,
   "id": "3c0cfd23",
   "metadata": {},
   "outputs": [
    {
     "name": "stdout",
     "output_type": "stream",
     "text": [
      "[8 6 2 9 8 9 3 8 8 8]\n",
      "--------------------\n",
      "[2 3 6 8 8 8 8 8 9 9]\n",
      "--------------------\n",
      "8.0\n"
     ]
    }
   ],
   "source": [
    "np.random.seed(4)\n",
    "arr = np.random.randint(1,10,10)\n",
    "print(arr)\n",
    "print('-'*20)\n",
    "\n",
    "arr = np.sort(arr)\n",
    "print(arr)\n",
    "print('-'*20)\n",
    "\n",
    "print(np.percentile(arr, 50))"
   ]
  },
  {
   "cell_type": "markdown",
   "id": "ea6d073c",
   "metadata": {},
   "source": [
    "# 22. Mean, Variance and Standard deviation"
   ]
  },
  {
   "cell_type": "markdown",
   "id": "038fa577",
   "metadata": {},
   "source": [
    "In NumPy, we can compute the mean, standard deviation, and variance of a given array along the second axis by two approaches first is by using inbuilt functions and second is by the formulas of the mean, standard deviation, and variance.\n",
    "Using numpy.mean (), numpy.std() , numpy. var ()"
   ]
  },
  {
   "cell_type": "code",
   "execution_count": 37,
   "id": "a993de6c",
   "metadata": {},
   "outputs": [
    {
     "name": "stdout",
     "output_type": "stream",
     "text": [
      "[8 6 2 9 8 9 3 8 8 8]\n",
      "6.9\n"
     ]
    }
   ],
   "source": [
    "np.random.seed(4)\n",
    "arr = np.random.randint(1,10,10)\n",
    "print(arr)\n",
    "\n",
    "print(arr.mean())"
   ]
  },
  {
   "cell_type": "code",
   "execution_count": 38,
   "id": "af6e20f9",
   "metadata": {},
   "outputs": [
    {
     "name": "stdout",
     "output_type": "stream",
     "text": [
      "2.3430749027719964\n"
     ]
    }
   ],
   "source": [
    "print(arr.std())"
   ]
  },
  {
   "cell_type": "code",
   "execution_count": 39,
   "id": "9fbc3524",
   "metadata": {},
   "outputs": [
    {
     "name": "stdout",
     "output_type": "stream",
     "text": [
      "5.49\n"
     ]
    }
   ],
   "source": [
    "print(arr.var())"
   ]
  },
  {
   "cell_type": "markdown",
   "id": "3efdb08d",
   "metadata": {},
   "source": [
    "# 23. Filtering an numpy array"
   ]
  },
  {
   "cell_type": "code",
   "execution_count": 40,
   "id": "42c0ef98",
   "metadata": {},
   "outputs": [
    {
     "name": "stdout",
     "output_type": "stream",
     "text": [
      "[ 1  2  3  4  5  6  7  8  9 10 11 12 13 14]\n",
      "[False False False False False False False False False False  True  True\n",
      "  True  True]\n",
      "[1 2 3 4 5 6 7 8 9]\n"
     ]
    }
   ],
   "source": [
    "arr = np.arange(1,15)\n",
    "print(arr)\n",
    "print(arr > 10)\n",
    "print(arr[arr<10])"
   ]
  },
  {
   "cell_type": "markdown",
   "id": "c8d4db88",
   "metadata": {},
   "source": [
    "We can store this into a new variable if we need this filtered array"
   ]
  },
  {
   "cell_type": "code",
   "execution_count": 41,
   "id": "a84337bd",
   "metadata": {},
   "outputs": [
    {
     "name": "stdout",
     "output_type": "stream",
     "text": [
      "[11 12 13 14]\n"
     ]
    }
   ],
   "source": [
    "arr2 = arr[arr>10]\n",
    "print(arr2)"
   ]
  },
  {
   "cell_type": "markdown",
   "id": "587d874b",
   "metadata": {},
   "source": [
    "• If we want to replace all the values above 5 with 10 we can even do that"
   ]
  },
  {
   "cell_type": "code",
   "execution_count": 42,
   "id": "fcc1dc29",
   "metadata": {},
   "outputs": [
    {
     "name": "stdout",
     "output_type": "stream",
     "text": [
      "[10 10 10 10  5  6  7  8  9 10 11 12 13 14]\n"
     ]
    }
   ],
   "source": [
    "arr[arr<5] = 10\n",
    "print(arr)"
   ]
  },
  {
   "cell_type": "markdown",
   "id": "588bfcf1",
   "metadata": {},
   "source": [
    "# 24.  Trasnsposing an array"
   ]
  },
  {
   "cell_type": "markdown",
   "id": "d2b3b573",
   "metadata": {},
   "source": [
    "With the help of Numpy ndarray.T object, we can make a Transpose of an array having dimension greater than or equal to 2."
   ]
  },
  {
   "cell_type": "code",
   "execution_count": 43,
   "id": "1710fb57",
   "metadata": {},
   "outputs": [
    {
     "name": "stdout",
     "output_type": "stream",
     "text": [
      "[[ 9  5 19 13  7]\n",
      " [11  4  1 10  7]\n",
      " [ 7  3 15  9 18]]\n",
      "--------------------\n",
      "[[ 9 11  7]\n",
      " [ 5  4  3]\n",
      " [19  1 15]\n",
      " [13 10  9]\n",
      " [ 7  7 18]]\n"
     ]
    }
   ],
   "source": [
    "arr = np.random.randint(1,20, (3,5))\n",
    "print(arr)\n",
    "print('-'*20)\n",
    "print (arr.T)"
   ]
  },
  {
   "cell_type": "markdown",
   "id": "aae80537",
   "metadata": {},
   "source": [
    "# 25. Where function"
   ]
  },
  {
   "cell_type": "markdown",
   "id": "4698b2da",
   "metadata": {},
   "source": [
    "The numpy.where() function returns the indices of elements in an input array where the given condition is satisfied.\n",
    "Syntax : numpy.where (condition [, x, y])\n",
    "    \n",
    "Parameters:\n",
    "    \n",
    "    condition: When True, yield x, otherwise yield y.\n",
    "\n",
    "    x, y: Values from which to choose. x, y and condition need to be broadcastable to some shape.\n",
    "\n",
    "Returns:\n",
    "    \n",
    "    out: [ndarray or tuple of ndarrays] If both x and y are specified, the output array contains elements of × where condition is True, and elements from y elsewhere.\n",
    "\n",
    "    If only condition is given, return the tuple condition.nonzero(), the indices where condition is True."
   ]
  },
  {
   "cell_type": "code",
   "execution_count": 44,
   "id": "e994e421",
   "metadata": {},
   "outputs": [
    {
     "name": "stdout",
     "output_type": "stream",
     "text": [
      "[ 3  1  9 11 14  2  1 14  4 19]\n"
     ]
    }
   ],
   "source": [
    "arr = np.random.randint(1,20,10)\n",
    "print(arr)"
   ]
  },
  {
   "cell_type": "markdown",
   "id": "00e17fc3",
   "metadata": {},
   "source": [
    "So now if we are having an even number let's convert it into 100 and the ones which are odd we leave it to the way it is"
   ]
  },
  {
   "cell_type": "code",
   "execution_count": 45,
   "id": "e239e427",
   "metadata": {},
   "outputs": [
    {
     "name": "stdout",
     "output_type": "stream",
     "text": [
      "[ 3  1  9 11 14  2  1 14  4 19]\n",
      "[  3   1   9  11 100 100   1 100 100  19]\n"
     ]
    }
   ],
   "source": [
    "print(arr)\n",
    "print(np.where(arr%2 == 0, 100, arr))"
   ]
  },
  {
   "cell_type": "code",
   "execution_count": 46,
   "id": "68d862bf",
   "metadata": {},
   "outputs": [
    {
     "name": "stdout",
     "output_type": "stream",
     "text": [
      "[ 3  1  9 11 14  2  1 14  4 19]\n",
      "['3' '1' '9' '11' 'even' 'even' '1' 'even' 'even' '19']\n",
      "['odd' 'odd' 'odd' 'odd' '14' '2' 'odd' '14' '4' 'odd']\n",
      "['odd' 'odd' 'odd' 'odd' 'even' 'even' 'odd' 'even' 'even' 'odd']\n"
     ]
    }
   ],
   "source": [
    "print(arr)\n",
    "print(np.where(arr%2 == 0, 'even', arr))\n",
    "print(np.where(arr%2 != 0, 'odd', arr))\n",
    "\n",
    "arr1 = np.where(arr%2 == 0, 'even', arr)\n",
    "arr2= np.where(arr%2 != 0, 'odd', arr1)\n",
    "\n",
    "print(arr2)\n"
   ]
  },
  {
   "cell_type": "markdown",
   "id": "9f4d8264",
   "metadata": {},
   "source": [
    "# 26. Merging arrays"
   ]
  },
  {
   "cell_type": "markdown",
   "id": "e6bc2285",
   "metadata": {},
   "source": [
    "We can perform the concatenation operation using the concatenate() function. With this function, arrays are concatenated either row-wise or column-wise, given that they have equal rows or columns respectively. Column-wise concatenation can be done by equating axis to 1 as an argument in the function."
   ]
  },
  {
   "cell_type": "code",
   "execution_count": 47,
   "id": "79513423",
   "metadata": {},
   "outputs": [
    {
     "name": "stdout",
     "output_type": "stream",
     "text": [
      "[[4 3 3 2]\n",
      " [1 2 1 8]\n",
      " [3 7 4 8]]\n",
      "[[9 3 7 8]\n",
      " [8 3 8 6]\n",
      " [4 1 6 5]]\n"
     ]
    }
   ],
   "source": [
    "arr1 = np.random.randint(1,10,(3,4))\n",
    "arr2 =  np.random.randint(1,10,(3,4))\n",
    "\n",
    "print(arr1)\n",
    "print(arr2)"
   ]
  },
  {
   "cell_type": "code",
   "execution_count": 48,
   "id": "e7be8136",
   "metadata": {},
   "outputs": [
    {
     "name": "stdout",
     "output_type": "stream",
     "text": [
      "[[4 3 3 2]\n",
      " [1 2 1 8]\n",
      " [3 7 4 8]\n",
      " [9 3 7 8]\n",
      " [8 3 8 6]\n",
      " [4 1 6 5]]\n",
      "--------------------\n",
      "[[4 3 3 2 9 3 7 8]\n",
      " [1 2 1 8 8 3 8 6]\n",
      " [3 7 4 8 4 1 6 5]]\n"
     ]
    }
   ],
   "source": [
    "print(np.concatenate((arr1,arr2),axis = 0))\n",
    "print('-'*20)\n",
    "print(np.concatenate((arr1,arr2),axis =1))"
   ]
  },
  {
   "cell_type": "markdown",
   "id": "69f55351",
   "metadata": {},
   "source": [
    "# a. Vstack and Hstack"
   ]
  },
  {
   "cell_type": "markdown",
   "id": "19b5d9f1",
   "metadata": {},
   "source": [
    "numpy.hstack() function is used to stack the sequence of input arrays horizontally (i.e. column wise) to make a single array."
   ]
  },
  {
   "cell_type": "code",
   "execution_count": 49,
   "id": "2c325c59",
   "metadata": {},
   "outputs": [
    {
     "name": "stdout",
     "output_type": "stream",
     "text": [
      "[[4 9 6 9]\n",
      " [7 8 1 5]\n",
      " [7 9 5 9]]\n",
      "[[2 6 5 3]\n",
      " [4 5 8 7]\n",
      " [7 9 1 4]]\n"
     ]
    }
   ],
   "source": [
    "arr1 = np.random.randint(1,10,(3,4))\n",
    "arr2 =  np.random.randint(1,10,(3,4))\n",
    "\n",
    "print(arr1)\n",
    "print(arr2)"
   ]
  },
  {
   "cell_type": "code",
   "execution_count": 50,
   "id": "d59915fb",
   "metadata": {},
   "outputs": [
    {
     "name": "stdout",
     "output_type": "stream",
     "text": [
      "[[4 9 6 9 2 6 5 3]\n",
      " [7 8 1 5 4 5 8 7]\n",
      " [7 9 5 9 7 9 1 4]]\n"
     ]
    }
   ],
   "source": [
    "print(np.hstack((arr1, arr2)))"
   ]
  },
  {
   "cell_type": "markdown",
   "id": "7f87e451",
   "metadata": {},
   "source": [
    "numpy.vstack() function is used to stack the sequence of input arrays vertically to make a single array."
   ]
  },
  {
   "cell_type": "code",
   "execution_count": 51,
   "id": "91ee47a2",
   "metadata": {},
   "outputs": [
    {
     "name": "stdout",
     "output_type": "stream",
     "text": [
      "[[4 9 6 9]\n",
      " [7 8 1 5]\n",
      " [7 9 5 9]\n",
      " [2 6 5 3]\n",
      " [4 5 8 7]\n",
      " [7 9 1 4]]\n"
     ]
    }
   ],
   "source": [
    "print(np.vstack((arr1, arr2)))"
   ]
  },
  {
   "cell_type": "markdown",
   "id": "4533e657",
   "metadata": {},
   "source": [
    "# 27, Splitting array"
   ]
  },
  {
   "cell_type": "code",
   "execution_count": 52,
   "id": "c7b68493",
   "metadata": {},
   "outputs": [
    {
     "name": "stdout",
     "output_type": "stream",
     "text": [
      "[[6 7 2 2]\n",
      " [7 1 9 8]\n",
      " [6 8 7 9]\n",
      " [5 5 1 8]]\n"
     ]
    }
   ],
   "source": [
    "arr = np.random.randint(1,10,(4,4))\n",
    "print(arr)"
   ]
  },
  {
   "cell_type": "markdown",
   "id": "8b75f7b8",
   "metadata": {},
   "source": [
    "numpy. vsplit() function split an array into multiple sub-arrays vertically (row-wise). vsplit is equivalent to split with axis=0 (default), the array is always split along the first axis regardless of the array dimension."
   ]
  },
  {
   "cell_type": "code",
   "execution_count": 53,
   "id": "81b70eda",
   "metadata": {},
   "outputs": [
    {
     "name": "stdout",
     "output_type": "stream",
     "text": [
      "[array([[6, 7, 2, 2],\n",
      "       [7, 1, 9, 8]]), array([[6, 8, 7, 9],\n",
      "       [5, 5, 1, 8]])]\n"
     ]
    }
   ],
   "source": [
    "print(np.vsplit(arr, 2))"
   ]
  },
  {
   "cell_type": "markdown",
   "id": "81337018",
   "metadata": {},
   "source": [
    "numpy.hsplit() function split an array into multiple sub-arrays horizontally (column-wise). split is equivalent to split with axis=1, the array is always split along the second axis regardless of the array dimension."
   ]
  },
  {
   "cell_type": "code",
   "execution_count": 54,
   "id": "a0b79ab6",
   "metadata": {},
   "outputs": [
    {
     "name": "stdout",
     "output_type": "stream",
     "text": [
      "[array([[6],\n",
      "       [7],\n",
      "       [6],\n",
      "       [5]]), array([[7],\n",
      "       [1],\n",
      "       [8],\n",
      "       [5]]), array([[2],\n",
      "       [9],\n",
      "       [7],\n",
      "       [1]]), array([[2],\n",
      "       [8],\n",
      "       [9],\n",
      "       [8]])]\n"
     ]
    }
   ],
   "source": [
    "print(np.hsplit(arr,4))"
   ]
  },
  {
   "cell_type": "markdown",
   "id": "95a6b621",
   "metadata": {},
   "source": [
    "# 28. Turning a picture into an numpy array"
   ]
  },
  {
   "cell_type": "markdown",
   "id": "262a6328",
   "metadata": {},
   "source": [
    "<img src='tjj.png'>"
   ]
  },
  {
   "cell_type": "markdown",
   "id": "c88e7412",
   "metadata": {},
   "source": [
    "Once we can turn this picture into an numpy array we can perform operations on that and pass the array even for some machine learning algorithms which will be benefitial for us\n",
    "We will be using imread function here which belongs from the matplotlib class"
   ]
  },
  {
   "cell_type": "code",
   "execution_count": 60,
   "id": "59640913",
   "metadata": {},
   "outputs": [],
   "source": [
    "from matplotlib.image import imread"
   ]
  },
  {
   "cell_type": "code",
   "execution_count": 69,
   "id": "542946f9",
   "metadata": {},
   "outputs": [
    {
     "name": "stdout",
     "output_type": "stream",
     "text": [
      "14906480\n",
      "(1556, 2395, 4)\n"
     ]
    }
   ],
   "source": [
    "img = imread('tjj.png')\n",
    "\n",
    "print(img.size)\n",
    "print(img.shape)"
   ]
  },
  {
   "cell_type": "code",
   "execution_count": 71,
   "id": "e9e602d3",
   "metadata": {},
   "outputs": [
    {
     "name": "stdout",
     "output_type": "stream",
     "text": [
      "[[[1. 1. 1. 0.]\n",
      "  [1. 1. 1. 0.]\n",
      "  [1. 1. 1. 0.]\n",
      "  ...\n",
      "  [1. 1. 1. 0.]\n",
      "  [1. 1. 1. 0.]\n",
      "  [1. 1. 1. 0.]]\n",
      "\n",
      " [[1. 1. 1. 0.]\n",
      "  [1. 1. 1. 0.]\n",
      "  [1. 1. 1. 0.]\n",
      "  ...\n",
      "  [1. 1. 1. 0.]\n",
      "  [1. 1. 1. 0.]\n",
      "  [1. 1. 1. 0.]]\n",
      "\n",
      " [[1. 1. 1. 0.]\n",
      "  [1. 1. 1. 0.]\n",
      "  [1. 1. 1. 0.]\n",
      "  ...\n",
      "  [1. 1. 1. 0.]\n",
      "  [1. 1. 1. 0.]\n",
      "  [1. 1. 1. 0.]]\n",
      "\n",
      " ...\n",
      "\n",
      " [[1. 1. 1. 0.]\n",
      "  [1. 1. 1. 0.]\n",
      "  [1. 1. 1. 0.]\n",
      "  ...\n",
      "  [1. 1. 1. 0.]\n",
      "  [1. 1. 1. 0.]\n",
      "  [1. 1. 1. 0.]]\n",
      "\n",
      " [[1. 1. 1. 0.]\n",
      "  [1. 1. 1. 0.]\n",
      "  [1. 1. 1. 0.]\n",
      "  ...\n",
      "  [1. 1. 1. 0.]\n",
      "  [1. 1. 1. 0.]\n",
      "  [1. 1. 1. 0.]]\n",
      "\n",
      " [[1. 1. 1. 0.]\n",
      "  [1. 1. 1. 0.]\n",
      "  [1. 1. 1. 0.]\n",
      "  ...\n",
      "  [1. 1. 1. 0.]\n",
      "  [1. 1. 1. 0.]\n",
      "  [1. 1. 1. 0.]]]\n",
      "1.0\n",
      "0.0\n"
     ]
    }
   ],
   "source": [
    "print(img)\n",
    "print(img.max())\n",
    "print(img.min())"
   ]
  },
  {
   "cell_type": "code",
   "execution_count": null,
   "id": "6882629d",
   "metadata": {},
   "outputs": [],
   "source": []
  }
 ],
 "metadata": {
  "kernelspec": {
   "display_name": "Python 3 (ipykernel)",
   "language": "python",
   "name": "python3"
  },
  "language_info": {
   "codemirror_mode": {
    "name": "ipython",
    "version": 3
   },
   "file_extension": ".py",
   "mimetype": "text/x-python",
   "name": "python",
   "nbconvert_exporter": "python",
   "pygments_lexer": "ipython3",
   "version": "3.11.4"
  }
 },
 "nbformat": 4,
 "nbformat_minor": 5
}
